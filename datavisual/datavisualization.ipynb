{
 "cells": [
  {
   "cell_type": "code",
   "execution_count": null,
   "metadata": {},
   "outputs": [
    {
     "ename": "",
     "evalue": "",
     "output_type": "error",
     "traceback": [
      "\u001b[1;31mRunning cells with 'c:\\Users\\ADMIN\\AppData\\Local\\Programs\\Python\\Python312\\python.exe' requires the ipykernel package.\n",
      "\u001b[1;31mRun the following command to install 'ipykernel' into the Python environment. \n",
      "\u001b[1;31mCommand: 'c:/Users/ADMIN/AppData/Local/Programs/Python/Python312/python.exe -m pip install ipykernel -U --user --force-reinstall'"
     ]
    }
   ],
   "source": [
    "import matplotlib.pyplot as plt\n",
    "import numpy as np\n",
    "import pandas as pd\n",
    "\n",
    "# Example 1: Bar Chart\n",
    "def bar_chart_example():\n",
    "    data = {'Category': ['A', 'B', 'C', 'D'],\n",
    "            'Values': [10, 20, 15, 25]}\n",
    "    df = pd.DataFrame(data)\n",
    "\n",
    "    plt.bar(df['Category'], df['Values'])\n",
    "    plt.xlabel('Category')\n",
    "    plt.ylabel('Values')\n",
    "    plt.title('Bar Chart Example')\n",
    "    plt.show()\n",
    "\n",
    "# Example 2: Pie Chart\n",
    "def pie_chart_example():\n",
    "    labels = ['A', 'B', 'C', 'D']\n",
    "    sizes = [15, 30, 45, 10]\n",
    "\n",
    "    plt.pie(sizes, labels=labels, autopct='%1.1f%%')\n",
    "    plt.title('Pie Chart Example')\n",
    "    plt.axis('equal')\n",
    "    plt.show()\n",
    "\n",
    "# Example 3: Line Graph\n",
    "def line_graph_example():\n",
    "    x = np.arange(0, 10, 0.1)\n",
    "    y = np.sin(x)\n",
    "\n",
    "    plt.plot(x, y)\n",
    "    plt.xlabel('X')\n",
    "    plt.ylabel('Y')\n",
    "    plt.title('Line Graph Example')\n",
    "    plt.grid(True)\n",
    "    plt.show()\n",
    "\n",
    "# Calling the examples\n",
    "bar_chart_example()\n",
    "pie_chart_example()\n",
    "line_graph_example()\n"
   ]
  }
 ],
 "metadata": {
  "kernelspec": {
   "display_name": "Python 3",
   "language": "python",
   "name": "python3"
  },
  "language_info": {
   "codemirror_mode": {
    "name": "ipython",
    "version": 3
   },
   "file_extension": ".py",
   "mimetype": "text/x-python",
   "name": "python",
   "nbconvert_exporter": "python",
   "pygments_lexer": "ipython3",
   "version": "3.12.2"
  }
 },
 "nbformat": 4,
 "nbformat_minor": 2
}
